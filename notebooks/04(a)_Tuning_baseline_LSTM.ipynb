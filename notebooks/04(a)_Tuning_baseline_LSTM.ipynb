{
  "nbformat": 4,
  "nbformat_minor": 0,
  "metadata": {
    "colab": {
      "provenance": [],
      "gpuType": "V28"
    },
    "kernelspec": {
      "name": "python3",
      "display_name": "Python 3"
    },
    "language_info": {
      "name": "python"
    },
    "accelerator": "TPU"
  },
  "cells": [
    {
      "cell_type": "code",
      "execution_count": 1,
      "metadata": {
        "colab": {
          "base_uri": "https://localhost:8080/"
        },
        "id": "vnNtAqWSmMh9",
        "outputId": "5f452496-29d3-4bbe-a711-b8eddcfd5d93"
      },
      "outputs": [
        {
          "output_type": "stream",
          "name": "stdout",
          "text": [
            "\u001b[2K   \u001b[90m━━━━━━━━━━━━━━━━━━━━━━━━━━━━━━━━━━━━━━━━\u001b[0m \u001b[32m129.1/129.1 kB\u001b[0m \u001b[31m2.6 MB/s\u001b[0m eta \u001b[36m0:00:00\u001b[0m\n",
            "\u001b[2K   \u001b[90m━━━━━━━━━━━━━━━━━━━━━━━━━━━━━━━━━━━━━━━━\u001b[0m \u001b[32m644.9/644.9 MB\u001b[0m \u001b[31m1.6 MB/s\u001b[0m eta \u001b[36m0:00:00\u001b[0m\n",
            "\u001b[2K   \u001b[90m━━━━━━━━━━━━━━━━━━━━━━━━━━━━━━━━━━━━━━━━\u001b[0m \u001b[32m57.5/57.5 kB\u001b[0m \u001b[31m4.1 MB/s\u001b[0m eta \u001b[36m0:00:00\u001b[0m\n",
            "\u001b[2K   \u001b[90m━━━━━━━━━━━━━━━━━━━━━━━━━━━━━━━━━━━━━━━━\u001b[0m \u001b[32m24.5/24.5 MB\u001b[0m \u001b[31m84.2 MB/s\u001b[0m eta \u001b[36m0:00:00\u001b[0m\n",
            "\u001b[2K   \u001b[90m━━━━━━━━━━━━━━━━━━━━━━━━━━━━━━━━━━━━━━━━\u001b[0m \u001b[32m319.9/319.9 kB\u001b[0m \u001b[31m20.0 MB/s\u001b[0m eta \u001b[36m0:00:00\u001b[0m\n",
            "\u001b[2K   \u001b[90m━━━━━━━━━━━━━━━━━━━━━━━━━━━━━━━━━━━━━━━━\u001b[0m \u001b[32m5.5/5.5 MB\u001b[0m \u001b[31m111.5 MB/s\u001b[0m eta \u001b[36m0:00:00\u001b[0m\n",
            "\u001b[2K   \u001b[90m━━━━━━━━━━━━━━━━━━━━━━━━━━━━━━━━━━━━━━━━\u001b[0m \u001b[32m5.1/5.1 MB\u001b[0m \u001b[31m102.8 MB/s\u001b[0m eta \u001b[36m0:00:00\u001b[0m\n",
            "\u001b[2K   \u001b[90m━━━━━━━━━━━━━━━━━━━━━━━━━━━━━━━━━━━━━━━━\u001b[0m \u001b[32m6.6/6.6 MB\u001b[0m \u001b[31m116.0 MB/s\u001b[0m eta \u001b[36m0:00:00\u001b[0m\n",
            "\u001b[2K   \u001b[90m━━━━━━━━━━━━━━━━━━━━━━━━━━━━━━━━━━━━━━━━\u001b[0m \u001b[32m224.5/224.5 kB\u001b[0m \u001b[31m13.0 MB/s\u001b[0m eta \u001b[36m0:00:00\u001b[0m\n",
            "\u001b[2K   \u001b[90m━━━━━━━━━━━━━━━━━━━━━━━━━━━━━━━━━━━━━━━━\u001b[0m \u001b[32m72.5/72.5 kB\u001b[0m \u001b[31m4.6 MB/s\u001b[0m eta \u001b[36m0:00:00\u001b[0m\n",
            "\u001b[?25h"
          ]
        }
      ],
      "source": [
        "!pip install -q keras-tuner\n",
        "!pip install -q tensorflow\n",
        "!pip install -q gdown\n",
        "import numpy as np\n",
        "import tensorflow as tf\n",
        "from tensorflow import keras\n",
        "from tensorflow.keras import layers\n",
        "import keras_tuner as kt\n",
        "from google.colab import drive"
      ]
    },
    {
      "cell_type": "code",
      "source": [
        "# Mounting Google Drive\n",
        "\n",
        "drive.mount('/content/drive')\n",
        "\n",
        "# Loading .npy files\n",
        "\n",
        "DATA_DIR = '/content/drive/My Drive/EdgeMeter_AI/Data/processed'\n",
        "\n",
        "X_train = np.load(f'{DATA_DIR}/X_train.npy')\n",
        "y_train = np.load(f'{DATA_DIR}/y_train.npy')\n",
        "X_val   = np.load(f'{DATA_DIR}/X_val.npy')\n",
        "y_val   = np.load(f'{DATA_DIR}/y_val.npy')\n",
        "X_test  = np.load(f'{DATA_DIR}/X_test.npy')\n",
        "y_test  = np.load(f'{DATA_DIR}/y_test.npy')\n",
        "\n",
        "print(f\"Train X: {X_train.shape} | Train y: {y_train.shape}\")\n",
        "print(f\"Val X:   {X_val.shape} | Val y:   {y_val.shape}\")\n",
        "print(f\"Test X:  {X_test.shape} | Test y:  {y_test.shape}\")\n"
      ],
      "metadata": {
        "colab": {
          "base_uri": "https://localhost:8080/"
        },
        "id": "J15rV6bspO7V",
        "outputId": "7fec1c8e-63ad-4e3a-cda0-f9a6f1b633ad"
      },
      "execution_count": 2,
      "outputs": [
        {
          "output_type": "stream",
          "name": "stdout",
          "text": [
            "Mounted at /content/drive\n",
            "Train X: (10720440, 48) | Train y: (10720440, 12)\n",
            "Val X:   (1536480, 48) | Val y:   (1536480, 12)\n",
            "Test X:  (3072960, 48) | Test y:  (3072960, 12)\n"
          ]
        }
      ]
    },
    {
      "cell_type": "code",
      "source": [
        "def build_model(hp):\n",
        "    model = keras.Sequential()\n",
        "    model.add(keras.Input(shape=(X_train.shape[1], X_train.shape[2])))\n",
        "    model.add(layers.LSTM(\n",
        "        units=hp.Int('units', min_value=32, max_value=128, step=32)\n",
        "    ))\n",
        "    model.add(layers.Dropout(\n",
        "        hp.Float('dropout', min_value=0.0, max_value=0.5, step=0.1)\n",
        "    ))\n",
        "    model.add(layers.Dense(1))\n",
        "\n",
        "    model.compile(\n",
        "        optimizer=keras.optimizers.Adam(\n",
        "            learning_rate=hp.Choice('learning_rate', [1e-2, 1e-3, 1e-4])\n",
        "        ),\n",
        "        loss='mse',\n",
        "        metrics=['mae']\n",
        "    )\n",
        "    return model"
      ],
      "metadata": {
        "id": "qa3uZueqxKzt"
      },
      "execution_count": 3,
      "outputs": []
    },
    {
      "cell_type": "code",
      "source": [
        "print(X_train.shape)\n"
      ],
      "metadata": {
        "colab": {
          "base_uri": "https://localhost:8080/"
        },
        "id": "uag3Tf56yoz8",
        "outputId": "c43f58cf-a0e8-4391-8204-908c90f21567"
      },
      "execution_count": 4,
      "outputs": [
        {
          "output_type": "stream",
          "name": "stdout",
          "text": [
            "(10720440, 48)\n"
          ]
        }
      ]
    },
    {
      "cell_type": "code",
      "source": [
        "# Reshape\n",
        "X_train = X_train[..., np.newaxis]\n",
        "X_val   = X_val[..., np.newaxis]\n",
        "X_test  = X_test[..., np.newaxis]\n",
        "\n",
        "print(\"Input reshaped:\", X_train.shape)"
      ],
      "metadata": {
        "colab": {
          "base_uri": "https://localhost:8080/"
        },
        "id": "hP4Up-0wpXEt",
        "outputId": "1a519970-8d8a-4d5a-96a2-30ee38a3b7c2"
      },
      "execution_count": 5,
      "outputs": [
        {
          "output_type": "stream",
          "name": "stdout",
          "text": [
            "Input reshaped: (10720440, 48, 1)\n"
          ]
        }
      ]
    },
    {
      "cell_type": "code",
      "source": [
        "# Creating small tuning subset\n",
        "subset_size = int(0.01 * X_train.shape[0])  # 1% for tuning\n",
        "\n",
        "X_train_small = X_train[:subset_size]\n",
        "y_train_small = y_train[:subset_size]\n",
        "X_val_small   = X_val[:int(0.01 * X_val.shape[0])]\n",
        "y_val_small   = y_val[:int(0.01 * y_val.shape[0])]\n",
        "\n",
        "print(f\"Subset: {X_train_small.shape}\")"
      ],
      "metadata": {
        "colab": {
          "base_uri": "https://localhost:8080/"
        },
        "id": "dGDMRuAQSpC_",
        "outputId": "373044be-e382-4f43-cc84-8bb58f25e2e3"
      },
      "execution_count": 6,
      "outputs": [
        {
          "output_type": "stream",
          "name": "stdout",
          "text": [
            "Subset: (107204, 48, 1)\n"
          ]
        }
      ]
    },
    {
      "cell_type": "code",
      "source": [
        "# Setting up Keras Tuner\n",
        "tuner = kt.RandomSearch(\n",
        "    build_model,\n",
        "    objective='val_loss',\n",
        "    max_trials=5,\n",
        "    executions_per_trial=1,\n",
        "    directory='tuner_dir',\n",
        "    project_name='Baseline_LSTM_QuickTune'\n",
        ")\n",
        "\n",
        "tuner.search_space_summary()"
      ],
      "metadata": {
        "colab": {
          "base_uri": "https://localhost:8080/"
        },
        "id": "LPITaPvirq0o",
        "outputId": "15cf8169-a9d1-4155-f028-4b611fc8ba77"
      },
      "execution_count": 7,
      "outputs": [
        {
          "output_type": "stream",
          "name": "stdout",
          "text": [
            "Search space summary\n",
            "Default search space size: 3\n",
            "units (Int)\n",
            "{'default': None, 'conditions': [], 'min_value': 32, 'max_value': 128, 'step': 32, 'sampling': 'linear'}\n",
            "dropout (Float)\n",
            "{'default': 0.0, 'conditions': [], 'min_value': 0.0, 'max_value': 0.5, 'step': 0.1, 'sampling': 'linear'}\n",
            "learning_rate (Choice)\n",
            "{'default': 0.01, 'conditions': [], 'values': [0.01, 0.001, 0.0001], 'ordered': True}\n"
          ]
        }
      ]
    },
    {
      "cell_type": "code",
      "source": [
        "# Tuning\n",
        "tuner.search(\n",
        "    X_train_small, y_train_small,\n",
        "    epochs=5,\n",
        "    validation_data=(X_val_small, y_val_small),\n",
        "    batch_size=32\n",
        ")\n",
        "\n",
        "tuner.results_summary()"
      ],
      "metadata": {
        "colab": {
          "base_uri": "https://localhost:8080/"
        },
        "id": "pSudP1UOsI8L",
        "outputId": "bb54f32b-99f5-4226-a5e0-dac148d0ffb6"
      },
      "execution_count": 8,
      "outputs": [
        {
          "output_type": "stream",
          "name": "stdout",
          "text": [
            "Trial 5 Complete [00h 04m 40s]\n",
            "val_loss: 0.019625842571258545\n",
            "\n",
            "Best val_loss So Far: 0.018933717161417007\n",
            "Total elapsed time: 00h 36m 12s\n",
            "Results summary\n",
            "Results in tuner_dir/Baseline_LSTM_QuickTune\n",
            "Showing 10 best trials\n",
            "Objective(name=\"val_loss\", direction=\"min\")\n",
            "\n",
            "Trial 1 summary\n",
            "Hyperparameters:\n",
            "units: 128\n",
            "dropout: 0.1\n",
            "learning_rate: 0.001\n",
            "Score: 0.018933717161417007\n",
            "\n",
            "Trial 3 summary\n",
            "Hyperparameters:\n",
            "units: 128\n",
            "dropout: 0.4\n",
            "learning_rate: 0.001\n",
            "Score: 0.019329650327563286\n",
            "\n",
            "Trial 4 summary\n",
            "Hyperparameters:\n",
            "units: 64\n",
            "dropout: 0.1\n",
            "learning_rate: 0.01\n",
            "Score: 0.019625842571258545\n",
            "\n",
            "Trial 2 summary\n",
            "Hyperparameters:\n",
            "units: 96\n",
            "dropout: 0.2\n",
            "learning_rate: 0.01\n",
            "Score: 0.019629232585430145\n",
            "\n",
            "Trial 0 summary\n",
            "Hyperparameters:\n",
            "units: 96\n",
            "dropout: 0.2\n",
            "learning_rate: 0.0001\n",
            "Score: 0.01969577744603157\n"
          ]
        }
      ]
    },
    {
      "cell_type": "code",
      "source": [
        "best_hp = tuner.get_best_hyperparameters(1)[0]\n",
        "\n",
        "print(\"\\nBest hyperparameters:\")\n",
        "print(f\"units: {best_hp.get('units')}\")\n",
        "print(f\"dropout: {best_hp.get('dropout')}\")\n",
        "print(f\"learning_rate: {best_hp.get('learning_rate')}\")"
      ],
      "metadata": {
        "colab": {
          "base_uri": "https://localhost:8080/"
        },
        "id": "yTcIRHU-S1e2",
        "outputId": "5582cdc2-9c6e-49ea-de99-93cd3fe79111"
      },
      "execution_count": 9,
      "outputs": [
        {
          "output_type": "stream",
          "name": "stdout",
          "text": [
            "\n",
            "✅ Best hyperparameters:\n",
            "units: 128\n",
            "dropout: 0.1\n",
            "learning_rate: 0.001\n"
          ]
        }
      ]
    },
    {
      "cell_type": "code",
      "source": [
        "import json\n",
        "import os\n",
        "# Extracting the best HPs as dict\n",
        "hp_dict = {\n",
        "    'units': best_hp.get('units'),\n",
        "    'dropout': best_hp.get('dropout'),\n",
        "    'learning_rate': best_hp.get('learning_rate')\n",
        "}\n",
        "\n",
        "# Saving HPs into jason file to use for model training\n",
        "hp_path = os.path.join(DATA_DIR, 'best_lstm_hp.json')\n",
        "\n",
        "with open(hp_path, 'w') as f:\n",
        "    json.dump(hp_dict, f)\n",
        "\n",
        "print(f\"Saved hyperparameters to: {hp_path}\")\n"
      ],
      "metadata": {
        "colab": {
          "base_uri": "https://localhost:8080/"
        },
        "id": "7EhX28HKaR0N",
        "outputId": "89a8f76f-b02c-42fe-87ff-ffad1392b7fd"
      },
      "execution_count": 11,
      "outputs": [
        {
          "output_type": "stream",
          "name": "stdout",
          "text": [
            "Saved hyperparameters to: /content/drive/My Drive/EdgeMeter_AI/Data/processed/best_lstm_hp.json\n"
          ]
        }
      ]
    }
  ]
}